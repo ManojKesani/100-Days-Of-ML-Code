{
  "nbformat": 4,
  "nbformat_minor": 0,
  "metadata": {
    "colab": {
      "name": "pi.ipynb",
      "provenance": [],
      "include_colab_link": true
    },
    "kernelspec": {
      "name": "python3",
      "display_name": "Python 3"
    }
  },
  "cells": [
    {
      "cell_type": "markdown",
      "metadata": {
        "id": "view-in-github",
        "colab_type": "text"
      },
      "source": [
        "<a href=\"https://colab.research.google.com/github/ManojKesani/100-Days-Of-ML-Code/blob/master/PI.ipynb\" target=\"_parent\"><img src=\"https://colab.research.google.com/assets/colab-badge.svg\" alt=\"Open In Colab\"/></a>"
      ]
    },
    {
      "cell_type": "code",
      "metadata": {
        "id": "sxF47S9wqvQ9",
        "colab": {
          "base_uri": "https://localhost:8080/"
        },
        "outputId": "1a8f5386-2ba9-45cd-8dc9-2fadaef64bb1"
      },
      "source": [
        "%%time\n",
        "import random\n",
        "class Point():\n",
        "  def __init__(self,x,y):\n",
        "    self.x = x\n",
        "    self.y = y\n",
        "\n",
        "  def __repr__(self):\n",
        "    return (f\"({self.x}, {self.y})\")\n",
        "  \n",
        "  def originDistance(self):\n",
        "    distance =((self.x**2)+(self.y**2))**0.5\n",
        "    return distance\n",
        "\n",
        "\n",
        "n = 10000000\n",
        "points_circle = 0\n",
        "for i in range(n):\n",
        "  p = Point(random.uniform(0,1),random.uniform(0,1))\n",
        "  d = p.originDistance()\n",
        "  # print(p)\n",
        "  if d <= 1: \n",
        "    points_circle += 1\n",
        "    \n",
        "pi = (4*points_circle/n)\n",
        "print(\"Estimated pi from\",n, \"random points is\", pi)\n",
        "\n"
      ],
      "execution_count": 57,
      "outputs": [
        {
          "output_type": "stream",
          "text": [
            "Estimated pi from 10000000 random points is 3.1419576\n",
            "CPU times: user 14.8 s, sys: 863 µs, total: 14.8 s\n",
            "Wall time: 14.8 s\n"
          ],
          "name": "stdout"
        }
      ]
    }
  ]
}